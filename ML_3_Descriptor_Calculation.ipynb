{
  "nbformat": 4,
  "nbformat_minor": 0,
  "metadata": {
    "colab": {
      "provenance": []
    },
    "kernelspec": {
      "name": "python3",
      "display_name": "Python 3"
    },
    "language_info": {
      "name": "python"
    }
  },
  "cells": [
    {
      "cell_type": "markdown",
      "source": [
        "Here we will be calculating molecular descriptors that are essentially quantitative description of the compounds in the dataset. Finally, we will be preparing this into a dataset for subsequent model building."
      ],
      "metadata": {
        "id": "BAl8uLMB2jZN"
      }
    },
    {
      "cell_type": "markdown",
      "source": [
        "**Download PaDEL-Descriptor**"
      ],
      "metadata": {
        "id": "A8XtsqBq2yTd"
      }
    },
    {
      "cell_type": "code",
      "execution_count": null,
      "metadata": {
        "id": "EN9G0CfR2QbP"
      },
      "outputs": [],
      "source": []
    }
  ]
}