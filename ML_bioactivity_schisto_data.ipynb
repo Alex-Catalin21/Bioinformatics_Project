{
  "nbformat": 4,
  "nbformat_minor": 0,
  "metadata": {
    "colab": {
      "provenance": []
    },
    "kernelspec": {
      "name": "python3",
      "display_name": "Python 3"
    },
    "language_info": {
      "name": "python"
    }
  },
  "cells": [
    {
      "cell_type": "markdown",
      "source": [
        "# **Data Collection**\n",
        "## Computational Medication Discovery, Download Bioactivity Data\n",
        "### Real-life data project for portfolio. In detail, we will be building a ML model using the ChEMBL DB for bioactivity data."
      ],
      "metadata": {
        "id": "LN06FOhw7GX_"
      }
    },
    {
      "cell_type": "markdown",
      "source": [
        "### ChEMBL DB\n",
        "The ChEMBL DB is a db that contains curated bioactivity ddata of more than 2 million compounds. It is compiled from more than 76k, 1.2 million essays and the data spans 13k targets and 1.800k cells and 33k indications."
      ],
      "metadata": {
        "id": "l4NLpyXj7etC"
      }
    },
    {
      "cell_type": "markdown",
      "source": [
        "### Libraries used\n",
        "ChEMBL web service package so that we can retrieve bioactivity data from the ChEMBL DB."
      ],
      "metadata": {
        "id": "pJFEmuKs72om"
      }
    },
    {
      "cell_type": "code",
      "execution_count": 1,
      "metadata": {
        "colab": {
          "base_uri": "https://localhost:8080/"
        },
        "id": "L6aGfZSS6-o4",
        "outputId": "d089b4bb-8bb5-4ece-ee53-94dfc1a8479d"
      },
      "outputs": [
        {
          "output_type": "stream",
          "name": "stdout",
          "text": [
            "Looking in indexes: https://pypi.org/simple, https://us-python.pkg.dev/colab-wheels/public/simple/\n",
            "Collecting chembl_webresource_client\n",
            "  Downloading chembl_webresource_client-0.10.8-py3-none-any.whl (55 kB)\n",
            "\u001b[2K     \u001b[90m━━━━━━━━━━━━━━━━━━━━━━━━━━━━━━━━━━━━━━━━\u001b[0m \u001b[32m55.2/55.2 kB\u001b[0m \u001b[31m2.9 MB/s\u001b[0m eta \u001b[36m0:00:00\u001b[0m\n",
            "\u001b[?25hRequirement already satisfied: urllib3 in /usr/local/lib/python3.10/dist-packages (from chembl_webresource_client) (1.26.15)\n",
            "Requirement already satisfied: requests>=2.18.4 in /usr/local/lib/python3.10/dist-packages (from chembl_webresource_client) (2.27.1)\n",
            "Collecting requests-cache~=0.7.0\n",
            "  Downloading requests_cache-0.7.5-py3-none-any.whl (39 kB)\n",
            "Requirement already satisfied: easydict in /usr/local/lib/python3.10/dist-packages (from chembl_webresource_client) (1.10)\n",
            "Requirement already satisfied: certifi>=2017.4.17 in /usr/local/lib/python3.10/dist-packages (from requests>=2.18.4->chembl_webresource_client) (2022.12.7)\n",
            "Requirement already satisfied: idna<4,>=2.5 in /usr/local/lib/python3.10/dist-packages (from requests>=2.18.4->chembl_webresource_client) (3.4)\n",
            "Requirement already satisfied: charset-normalizer~=2.0.0 in /usr/local/lib/python3.10/dist-packages (from requests>=2.18.4->chembl_webresource_client) (2.0.12)\n",
            "Collecting attrs<22.0,>=21.2\n",
            "  Downloading attrs-21.4.0-py2.py3-none-any.whl (60 kB)\n",
            "\u001b[2K     \u001b[90m━━━━━━━━━━━━━━━━━━━━━━━━━━━━━━━━━━━━━━━━\u001b[0m \u001b[32m60.6/60.6 kB\u001b[0m \u001b[31m6.0 MB/s\u001b[0m eta \u001b[36m0:00:00\u001b[0m\n",
            "\u001b[?25hRequirement already satisfied: pyyaml>=5.4 in /usr/local/lib/python3.10/dist-packages (from requests-cache~=0.7.0->chembl_webresource_client) (6.0)\n",
            "Requirement already satisfied: itsdangerous>=2.0.1 in /usr/local/lib/python3.10/dist-packages (from requests-cache~=0.7.0->chembl_webresource_client) (2.1.2)\n",
            "Collecting url-normalize<2.0,>=1.4\n",
            "  Downloading url_normalize-1.4.3-py2.py3-none-any.whl (6.8 kB)\n",
            "Requirement already satisfied: six in /usr/local/lib/python3.10/dist-packages (from url-normalize<2.0,>=1.4->requests-cache~=0.7.0->chembl_webresource_client) (1.16.0)\n",
            "Installing collected packages: url-normalize, attrs, requests-cache, chembl_webresource_client\n",
            "  Attempting uninstall: attrs\n",
            "    Found existing installation: attrs 23.1.0\n",
            "    Uninstalling attrs-23.1.0:\n",
            "      Successfully uninstalled attrs-23.1.0\n",
            "Successfully installed attrs-21.4.0 chembl_webresource_client-0.10.8 requests-cache-0.7.5 url-normalize-1.4.3\n"
          ]
        }
      ],
      "source": [
        "! pip install chembl_webresource_client"
      ]
    },
    {
      "cell_type": "code",
      "source": [
        "# import necessary libraries\n",
        "import pandas as pd\n",
        "from chembl_webresource_client.new_client import new_client"
      ],
      "metadata": {
        "id": "Y5ZaPycn8JlP"
      },
      "execution_count": 2,
      "outputs": []
    },
    {
      "cell_type": "markdown",
      "source": [
        "### Search for Target protein\n",
        "Target search for schistosoma"
      ],
      "metadata": {
        "id": "icCg9WxA8UOU"
      }
    },
    {
      "cell_type": "code",
      "source": [
        "# Target search for schistosoma\n",
        "target = new_client.target\n",
        "target_query = target.search('schistosoma')\n",
        "targets = pd.DataFrame.from_dict(target_query)\n",
        "targets\n",
        "# 10 are single protein, 3 are organisms and 1 nucleic acid"
      ],
      "metadata": {
        "colab": {
          "base_uri": "https://localhost:8080/",
          "height": 882
        },
        "id": "ogAnYTcU8aCm",
        "outputId": "af84eac8-f573-4778-eb39-84d1adbd3a41"
      },
      "execution_count": 3,
      "outputs": [
        {
          "output_type": "execute_result",
          "data": {
            "text/plain": [
              "   cross_references                 organism  \\\n",
              "0                []    Schistosoma japonicum   \n",
              "1                []      Schistosoma mansoni   \n",
              "2                []  Schistosoma haematobium   \n",
              "3                []      Schistosoma mansoni   \n",
              "4                []      Schistosoma mansoni   \n",
              "5                []      Schistosoma mansoni   \n",
              "6                []      Schistosoma mansoni   \n",
              "7                []      Schistosoma mansoni   \n",
              "8                []      Schistosoma mansoni   \n",
              "9                []    Schistosoma japonicum   \n",
              "10               []      Schistosoma mansoni   \n",
              "11               []      Schistosoma mansoni   \n",
              "12               []      Schistosoma mansoni   \n",
              "13               []      Schistosoma mansoni   \n",
              "\n",
              "                                            pref_name  score  \\\n",
              "0                               Schistosoma japonicum   16.0   \n",
              "1                                 Schistosoma mansoni   16.0   \n",
              "2                             Schistosoma haematobium   16.0   \n",
              "3                   Thioredoxin glutathione reductase   10.0   \n",
              "4                              Thioredoxin peroxidase   10.0   \n",
              "5    Voltage-activated calcium channel beta 1 subunit   10.0   \n",
              "6    Voltage-activated calcium channel beta 2 subunit   10.0   \n",
              "7                                                 DNA   10.0   \n",
              "8                               Histone deacetylase 8   10.0   \n",
              "9                           Glutathione-S-transferase   10.0   \n",
              "10                  NAD-dependent protein deacetylase   10.0   \n",
              "11  Dihydroorotate dehydrogenase (quinone), mitoch...   10.0   \n",
              "12                           ATP-diphosphohydrolase 1   10.0   \n",
              "13                             Cathepsin B1 isotype 1   10.0   \n",
              "\n",
              "    species_group_flag target_chembl_id  \\\n",
              "0                False     CHEMBL612644   \n",
              "1                False     CHEMBL612893   \n",
              "2                False    CHEMBL4296598   \n",
              "3                False       CHEMBL6110   \n",
              "4                False    CHEMBL1293279   \n",
              "5                False    CHEMBL2363079   \n",
              "6                False    CHEMBL2363080   \n",
              "7                False    CHEMBL2366043   \n",
              "8                False    CHEMBL3797017   \n",
              "9                False    CHEMBL4105850   \n",
              "10               False    CHEMBL4523517   \n",
              "11               False    CHEMBL4523950   \n",
              "12               False    CHEMBL4879549   \n",
              "13               False    CHEMBL4888438   \n",
              "\n",
              "                                    target_components     target_type  tax_id  \n",
              "0                                                  []        ORGANISM    6182  \n",
              "1                                                  []        ORGANISM    6183  \n",
              "2                                                  []        ORGANISM    6185  \n",
              "3   [{'accession': 'Q962Y6', 'component_descriptio...  SINGLE PROTEIN    6183  \n",
              "4   [{'accession': 'O97161', 'component_descriptio...  SINGLE PROTEIN    6183  \n",
              "5   [{'accession': 'Q95US7', 'component_descriptio...  SINGLE PROTEIN    6183  \n",
              "6   [{'accession': 'Q962H3', 'component_descriptio...  SINGLE PROTEIN    6183  \n",
              "7                                                  []    NUCLEIC-ACID    6183  \n",
              "8   [{'accession': 'A5H660', 'component_descriptio...  SINGLE PROTEIN    6183  \n",
              "9   [{'accession': 'Q26513', 'component_descriptio...  SINGLE PROTEIN    6182  \n",
              "10  [{'accession': 'T1VXA1', 'component_descriptio...  SINGLE PROTEIN    6183  \n",
              "11  [{'accession': 'G4VFD7', 'component_descriptio...  SINGLE PROTEIN    6183  \n",
              "12  [{'accession': 'Q7YTA4', 'component_descriptio...  SINGLE PROTEIN    6183  \n",
              "13  [{'accession': 'Q8MNY2', 'component_descriptio...  SINGLE PROTEIN    6183  "
            ],
            "text/html": [
              "\n",
              "  <div id=\"df-fb733fc6-9f87-46d8-b885-117397be8155\">\n",
              "    <div class=\"colab-df-container\">\n",
              "      <div>\n",
              "<style scoped>\n",
              "    .dataframe tbody tr th:only-of-type {\n",
              "        vertical-align: middle;\n",
              "    }\n",
              "\n",
              "    .dataframe tbody tr th {\n",
              "        vertical-align: top;\n",
              "    }\n",
              "\n",
              "    .dataframe thead th {\n",
              "        text-align: right;\n",
              "    }\n",
              "</style>\n",
              "<table border=\"1\" class=\"dataframe\">\n",
              "  <thead>\n",
              "    <tr style=\"text-align: right;\">\n",
              "      <th></th>\n",
              "      <th>cross_references</th>\n",
              "      <th>organism</th>\n",
              "      <th>pref_name</th>\n",
              "      <th>score</th>\n",
              "      <th>species_group_flag</th>\n",
              "      <th>target_chembl_id</th>\n",
              "      <th>target_components</th>\n",
              "      <th>target_type</th>\n",
              "      <th>tax_id</th>\n",
              "    </tr>\n",
              "  </thead>\n",
              "  <tbody>\n",
              "    <tr>\n",
              "      <th>0</th>\n",
              "      <td>[]</td>\n",
              "      <td>Schistosoma japonicum</td>\n",
              "      <td>Schistosoma japonicum</td>\n",
              "      <td>16.0</td>\n",
              "      <td>False</td>\n",
              "      <td>CHEMBL612644</td>\n",
              "      <td>[]</td>\n",
              "      <td>ORGANISM</td>\n",
              "      <td>6182</td>\n",
              "    </tr>\n",
              "    <tr>\n",
              "      <th>1</th>\n",
              "      <td>[]</td>\n",
              "      <td>Schistosoma mansoni</td>\n",
              "      <td>Schistosoma mansoni</td>\n",
              "      <td>16.0</td>\n",
              "      <td>False</td>\n",
              "      <td>CHEMBL612893</td>\n",
              "      <td>[]</td>\n",
              "      <td>ORGANISM</td>\n",
              "      <td>6183</td>\n",
              "    </tr>\n",
              "    <tr>\n",
              "      <th>2</th>\n",
              "      <td>[]</td>\n",
              "      <td>Schistosoma haematobium</td>\n",
              "      <td>Schistosoma haematobium</td>\n",
              "      <td>16.0</td>\n",
              "      <td>False</td>\n",
              "      <td>CHEMBL4296598</td>\n",
              "      <td>[]</td>\n",
              "      <td>ORGANISM</td>\n",
              "      <td>6185</td>\n",
              "    </tr>\n",
              "    <tr>\n",
              "      <th>3</th>\n",
              "      <td>[]</td>\n",
              "      <td>Schistosoma mansoni</td>\n",
              "      <td>Thioredoxin glutathione reductase</td>\n",
              "      <td>10.0</td>\n",
              "      <td>False</td>\n",
              "      <td>CHEMBL6110</td>\n",
              "      <td>[{'accession': 'Q962Y6', 'component_descriptio...</td>\n",
              "      <td>SINGLE PROTEIN</td>\n",
              "      <td>6183</td>\n",
              "    </tr>\n",
              "    <tr>\n",
              "      <th>4</th>\n",
              "      <td>[]</td>\n",
              "      <td>Schistosoma mansoni</td>\n",
              "      <td>Thioredoxin peroxidase</td>\n",
              "      <td>10.0</td>\n",
              "      <td>False</td>\n",
              "      <td>CHEMBL1293279</td>\n",
              "      <td>[{'accession': 'O97161', 'component_descriptio...</td>\n",
              "      <td>SINGLE PROTEIN</td>\n",
              "      <td>6183</td>\n",
              "    </tr>\n",
              "    <tr>\n",
              "      <th>5</th>\n",
              "      <td>[]</td>\n",
              "      <td>Schistosoma mansoni</td>\n",
              "      <td>Voltage-activated calcium channel beta 1 subunit</td>\n",
              "      <td>10.0</td>\n",
              "      <td>False</td>\n",
              "      <td>CHEMBL2363079</td>\n",
              "      <td>[{'accession': 'Q95US7', 'component_descriptio...</td>\n",
              "      <td>SINGLE PROTEIN</td>\n",
              "      <td>6183</td>\n",
              "    </tr>\n",
              "    <tr>\n",
              "      <th>6</th>\n",
              "      <td>[]</td>\n",
              "      <td>Schistosoma mansoni</td>\n",
              "      <td>Voltage-activated calcium channel beta 2 subunit</td>\n",
              "      <td>10.0</td>\n",
              "      <td>False</td>\n",
              "      <td>CHEMBL2363080</td>\n",
              "      <td>[{'accession': 'Q962H3', 'component_descriptio...</td>\n",
              "      <td>SINGLE PROTEIN</td>\n",
              "      <td>6183</td>\n",
              "    </tr>\n",
              "    <tr>\n",
              "      <th>7</th>\n",
              "      <td>[]</td>\n",
              "      <td>Schistosoma mansoni</td>\n",
              "      <td>DNA</td>\n",
              "      <td>10.0</td>\n",
              "      <td>False</td>\n",
              "      <td>CHEMBL2366043</td>\n",
              "      <td>[]</td>\n",
              "      <td>NUCLEIC-ACID</td>\n",
              "      <td>6183</td>\n",
              "    </tr>\n",
              "    <tr>\n",
              "      <th>8</th>\n",
              "      <td>[]</td>\n",
              "      <td>Schistosoma mansoni</td>\n",
              "      <td>Histone deacetylase 8</td>\n",
              "      <td>10.0</td>\n",
              "      <td>False</td>\n",
              "      <td>CHEMBL3797017</td>\n",
              "      <td>[{'accession': 'A5H660', 'component_descriptio...</td>\n",
              "      <td>SINGLE PROTEIN</td>\n",
              "      <td>6183</td>\n",
              "    </tr>\n",
              "    <tr>\n",
              "      <th>9</th>\n",
              "      <td>[]</td>\n",
              "      <td>Schistosoma japonicum</td>\n",
              "      <td>Glutathione-S-transferase</td>\n",
              "      <td>10.0</td>\n",
              "      <td>False</td>\n",
              "      <td>CHEMBL4105850</td>\n",
              "      <td>[{'accession': 'Q26513', 'component_descriptio...</td>\n",
              "      <td>SINGLE PROTEIN</td>\n",
              "      <td>6182</td>\n",
              "    </tr>\n",
              "    <tr>\n",
              "      <th>10</th>\n",
              "      <td>[]</td>\n",
              "      <td>Schistosoma mansoni</td>\n",
              "      <td>NAD-dependent protein deacetylase</td>\n",
              "      <td>10.0</td>\n",
              "      <td>False</td>\n",
              "      <td>CHEMBL4523517</td>\n",
              "      <td>[{'accession': 'T1VXA1', 'component_descriptio...</td>\n",
              "      <td>SINGLE PROTEIN</td>\n",
              "      <td>6183</td>\n",
              "    </tr>\n",
              "    <tr>\n",
              "      <th>11</th>\n",
              "      <td>[]</td>\n",
              "      <td>Schistosoma mansoni</td>\n",
              "      <td>Dihydroorotate dehydrogenase (quinone), mitoch...</td>\n",
              "      <td>10.0</td>\n",
              "      <td>False</td>\n",
              "      <td>CHEMBL4523950</td>\n",
              "      <td>[{'accession': 'G4VFD7', 'component_descriptio...</td>\n",
              "      <td>SINGLE PROTEIN</td>\n",
              "      <td>6183</td>\n",
              "    </tr>\n",
              "    <tr>\n",
              "      <th>12</th>\n",
              "      <td>[]</td>\n",
              "      <td>Schistosoma mansoni</td>\n",
              "      <td>ATP-diphosphohydrolase 1</td>\n",
              "      <td>10.0</td>\n",
              "      <td>False</td>\n",
              "      <td>CHEMBL4879549</td>\n",
              "      <td>[{'accession': 'Q7YTA4', 'component_descriptio...</td>\n",
              "      <td>SINGLE PROTEIN</td>\n",
              "      <td>6183</td>\n",
              "    </tr>\n",
              "    <tr>\n",
              "      <th>13</th>\n",
              "      <td>[]</td>\n",
              "      <td>Schistosoma mansoni</td>\n",
              "      <td>Cathepsin B1 isotype 1</td>\n",
              "      <td>10.0</td>\n",
              "      <td>False</td>\n",
              "      <td>CHEMBL4888438</td>\n",
              "      <td>[{'accession': 'Q8MNY2', 'component_descriptio...</td>\n",
              "      <td>SINGLE PROTEIN</td>\n",
              "      <td>6183</td>\n",
              "    </tr>\n",
              "  </tbody>\n",
              "</table>\n",
              "</div>\n",
              "      <button class=\"colab-df-convert\" onclick=\"convertToInteractive('df-fb733fc6-9f87-46d8-b885-117397be8155')\"\n",
              "              title=\"Convert this dataframe to an interactive table.\"\n",
              "              style=\"display:none;\">\n",
              "        \n",
              "  <svg xmlns=\"http://www.w3.org/2000/svg\" height=\"24px\"viewBox=\"0 0 24 24\"\n",
              "       width=\"24px\">\n",
              "    <path d=\"M0 0h24v24H0V0z\" fill=\"none\"/>\n",
              "    <path d=\"M18.56 5.44l.94 2.06.94-2.06 2.06-.94-2.06-.94-.94-2.06-.94 2.06-2.06.94zm-11 1L8.5 8.5l.94-2.06 2.06-.94-2.06-.94L8.5 2.5l-.94 2.06-2.06.94zm10 10l.94 2.06.94-2.06 2.06-.94-2.06-.94-.94-2.06-.94 2.06-2.06.94z\"/><path d=\"M17.41 7.96l-1.37-1.37c-.4-.4-.92-.59-1.43-.59-.52 0-1.04.2-1.43.59L10.3 9.45l-7.72 7.72c-.78.78-.78 2.05 0 2.83L4 21.41c.39.39.9.59 1.41.59.51 0 1.02-.2 1.41-.59l7.78-7.78 2.81-2.81c.8-.78.8-2.07 0-2.86zM5.41 20L4 18.59l7.72-7.72 1.47 1.35L5.41 20z\"/>\n",
              "  </svg>\n",
              "      </button>\n",
              "      \n",
              "  <style>\n",
              "    .colab-df-container {\n",
              "      display:flex;\n",
              "      flex-wrap:wrap;\n",
              "      gap: 12px;\n",
              "    }\n",
              "\n",
              "    .colab-df-convert {\n",
              "      background-color: #E8F0FE;\n",
              "      border: none;\n",
              "      border-radius: 50%;\n",
              "      cursor: pointer;\n",
              "      display: none;\n",
              "      fill: #1967D2;\n",
              "      height: 32px;\n",
              "      padding: 0 0 0 0;\n",
              "      width: 32px;\n",
              "    }\n",
              "\n",
              "    .colab-df-convert:hover {\n",
              "      background-color: #E2EBFA;\n",
              "      box-shadow: 0px 1px 2px rgba(60, 64, 67, 0.3), 0px 1px 3px 1px rgba(60, 64, 67, 0.15);\n",
              "      fill: #174EA6;\n",
              "    }\n",
              "\n",
              "    [theme=dark] .colab-df-convert {\n",
              "      background-color: #3B4455;\n",
              "      fill: #D2E3FC;\n",
              "    }\n",
              "\n",
              "    [theme=dark] .colab-df-convert:hover {\n",
              "      background-color: #434B5C;\n",
              "      box-shadow: 0px 1px 3px 1px rgba(0, 0, 0, 0.15);\n",
              "      filter: drop-shadow(0px 1px 2px rgba(0, 0, 0, 0.3));\n",
              "      fill: #FFFFFF;\n",
              "    }\n",
              "  </style>\n",
              "\n",
              "      <script>\n",
              "        const buttonEl =\n",
              "          document.querySelector('#df-fb733fc6-9f87-46d8-b885-117397be8155 button.colab-df-convert');\n",
              "        buttonEl.style.display =\n",
              "          google.colab.kernel.accessAllowed ? 'block' : 'none';\n",
              "\n",
              "        async function convertToInteractive(key) {\n",
              "          const element = document.querySelector('#df-fb733fc6-9f87-46d8-b885-117397be8155');\n",
              "          const dataTable =\n",
              "            await google.colab.kernel.invokeFunction('convertToInteractive',\n",
              "                                                     [key], {});\n",
              "          if (!dataTable) return;\n",
              "\n",
              "          const docLinkHtml = 'Like what you see? Visit the ' +\n",
              "            '<a target=\"_blank\" href=https://colab.research.google.com/notebooks/data_table.ipynb>data table notebook</a>'\n",
              "            + ' to learn more about interactive tables.';\n",
              "          element.innerHTML = '';\n",
              "          dataTable['output_type'] = 'display_data';\n",
              "          await google.colab.output.renderOutput(dataTable, element);\n",
              "          const docLink = document.createElement('div');\n",
              "          docLink.innerHTML = docLinkHtml;\n",
              "          element.appendChild(docLink);\n",
              "        }\n",
              "      </script>\n",
              "    </div>\n",
              "  </div>\n",
              "  "
            ]
          },
          "metadata": {},
          "execution_count": 3
        }
      ]
    },
    {
      "cell_type": "markdown",
      "source": [
        "# **Select and retrieve bioactivity data for NAD-dependent protein deacetylase(tenth entry indexed from 0)**"
      ],
      "metadata": {
        "id": "GDZLIX8-jh4v"
      }
    },
    {
      "cell_type": "markdown",
      "source": [
        "The tenth entry(target protein, NAD-dependent protein deacetylase) will be assigned to the selected_target variable"
      ],
      "metadata": {
        "id": "gl7aDvq2jqK_"
      }
    },
    {
      "cell_type": "code",
      "source": [
        "selected_target = targets.target_chembl_id[10]\n",
        "selected_target"
      ],
      "metadata": {
        "colab": {
          "base_uri": "https://localhost:8080/",
          "height": 35
        },
        "id": "YYgGE6Yikdbj",
        "outputId": "cbbfc194-944f-4aa3-8bf3-b7aaa761de8a"
      },
      "execution_count": 4,
      "outputs": [
        {
          "output_type": "execute_result",
          "data": {
            "text/plain": [
              "'CHEMBL4523517'"
            ],
            "application/vnd.google.colaboratory.intrinsic+json": {
              "type": "string"
            }
          },
          "metadata": {},
          "execution_count": 4
        }
      ]
    },
    {
      "cell_type": "markdown",
      "source": [
        "Here we will retrieve only bioactivity data for NAD-dependent protein deacetylase(CHEMBL4523517) that are reported as IC50 values in nM(nanomolar) unit."
      ],
      "metadata": {
        "id": "7DAKA1oU8_jI"
      }
    },
    {
      "cell_type": "code",
      "source": [
        "activity = new_client.activity\n",
        "res = activity.filter(target_chembl_id=selected_target).filter(standard_type=\"IC50\")"
      ],
      "metadata": {
        "id": "PNjwfaQJlikw"
      },
      "execution_count": 11,
      "outputs": []
    },
    {
      "cell_type": "code",
      "source": [
        "df = pd.DataFrame.from_dict(res)"
      ],
      "metadata": {
        "id": "QGHsAyWUluZo"
      },
      "execution_count": 12,
      "outputs": []
    },
    {
      "cell_type": "code",
      "source": [
        "df"
      ],
      "metadata": {
        "colab": {
          "base_uri": "https://localhost:8080/",
          "height": 393
        },
        "id": "06bwosCmlzYL",
        "outputId": "d3da51f5-c759-45e6-a3fc-b370ac6e78ef"
      },
      "execution_count": 13,
      "outputs": [
        {
          "output_type": "execute_result",
          "data": {
            "text/plain": [
              "  activity_comment  activity_id activity_properties assay_chembl_id  \\\n",
              "0             None     18918972                  []   CHEMBL4322639   \n",
              "1             None     18918974                  []   CHEMBL4322641   \n",
              "2             None     18918975                  []   CHEMBL4322624   \n",
              "\n",
              "                                   assay_description assay_type  \\\n",
              "0  Inhibition of recombinant Schistosoma mansoni ...          B   \n",
              "1  Inhibition of recombinant Schistosoma mansoni ...          B   \n",
              "2  Inhibition of recombinant Schistosoma mansoni ...          B   \n",
              "\n",
              "  assay_variant_accession assay_variant_mutation bao_endpoint   bao_format  \\\n",
              "0                    None                   None  BAO_0000190  BAO_0000219   \n",
              "1                    None                   None  BAO_0000190  BAO_0000219   \n",
              "2                    None                   None  BAO_0000190  BAO_0000219   \n",
              "\n",
              "   ...      target_organism                   target_pref_name target_tax_id  \\\n",
              "0  ...  Schistosoma mansoni  NAD-dependent protein deacetylase          6183   \n",
              "1  ...  Schistosoma mansoni  NAD-dependent protein deacetylase          6183   \n",
              "2  ...  Schistosoma mansoni  NAD-dependent protein deacetylase          6183   \n",
              "\n",
              "  text_value  toid  type  units    uo_units upper_value  value  \n",
              "0       None  None  IC50     uM  UO_0000065        None   23.1  \n",
              "1       None  None  IC50     uM  UO_0000065        None  420.0  \n",
              "2       None  None  IC50     uM  UO_0000065        None    1.9  \n",
              "\n",
              "[3 rows x 45 columns]"
            ],
            "text/html": [
              "\n",
              "  <div id=\"df-0f23ee78-0b41-435f-85eb-f4a082224310\">\n",
              "    <div class=\"colab-df-container\">\n",
              "      <div>\n",
              "<style scoped>\n",
              "    .dataframe tbody tr th:only-of-type {\n",
              "        vertical-align: middle;\n",
              "    }\n",
              "\n",
              "    .dataframe tbody tr th {\n",
              "        vertical-align: top;\n",
              "    }\n",
              "\n",
              "    .dataframe thead th {\n",
              "        text-align: right;\n",
              "    }\n",
              "</style>\n",
              "<table border=\"1\" class=\"dataframe\">\n",
              "  <thead>\n",
              "    <tr style=\"text-align: right;\">\n",
              "      <th></th>\n",
              "      <th>activity_comment</th>\n",
              "      <th>activity_id</th>\n",
              "      <th>activity_properties</th>\n",
              "      <th>assay_chembl_id</th>\n",
              "      <th>assay_description</th>\n",
              "      <th>assay_type</th>\n",
              "      <th>assay_variant_accession</th>\n",
              "      <th>assay_variant_mutation</th>\n",
              "      <th>bao_endpoint</th>\n",
              "      <th>bao_format</th>\n",
              "      <th>...</th>\n",
              "      <th>target_organism</th>\n",
              "      <th>target_pref_name</th>\n",
              "      <th>target_tax_id</th>\n",
              "      <th>text_value</th>\n",
              "      <th>toid</th>\n",
              "      <th>type</th>\n",
              "      <th>units</th>\n",
              "      <th>uo_units</th>\n",
              "      <th>upper_value</th>\n",
              "      <th>value</th>\n",
              "    </tr>\n",
              "  </thead>\n",
              "  <tbody>\n",
              "    <tr>\n",
              "      <th>0</th>\n",
              "      <td>None</td>\n",
              "      <td>18918972</td>\n",
              "      <td>[]</td>\n",
              "      <td>CHEMBL4322639</td>\n",
              "      <td>Inhibition of recombinant Schistosoma mansoni ...</td>\n",
              "      <td>B</td>\n",
              "      <td>None</td>\n",
              "      <td>None</td>\n",
              "      <td>BAO_0000190</td>\n",
              "      <td>BAO_0000219</td>\n",
              "      <td>...</td>\n",
              "      <td>Schistosoma mansoni</td>\n",
              "      <td>NAD-dependent protein deacetylase</td>\n",
              "      <td>6183</td>\n",
              "      <td>None</td>\n",
              "      <td>None</td>\n",
              "      <td>IC50</td>\n",
              "      <td>uM</td>\n",
              "      <td>UO_0000065</td>\n",
              "      <td>None</td>\n",
              "      <td>23.1</td>\n",
              "    </tr>\n",
              "    <tr>\n",
              "      <th>1</th>\n",
              "      <td>None</td>\n",
              "      <td>18918974</td>\n",
              "      <td>[]</td>\n",
              "      <td>CHEMBL4322641</td>\n",
              "      <td>Inhibition of recombinant Schistosoma mansoni ...</td>\n",
              "      <td>B</td>\n",
              "      <td>None</td>\n",
              "      <td>None</td>\n",
              "      <td>BAO_0000190</td>\n",
              "      <td>BAO_0000219</td>\n",
              "      <td>...</td>\n",
              "      <td>Schistosoma mansoni</td>\n",
              "      <td>NAD-dependent protein deacetylase</td>\n",
              "      <td>6183</td>\n",
              "      <td>None</td>\n",
              "      <td>None</td>\n",
              "      <td>IC50</td>\n",
              "      <td>uM</td>\n",
              "      <td>UO_0000065</td>\n",
              "      <td>None</td>\n",
              "      <td>420.0</td>\n",
              "    </tr>\n",
              "    <tr>\n",
              "      <th>2</th>\n",
              "      <td>None</td>\n",
              "      <td>18918975</td>\n",
              "      <td>[]</td>\n",
              "      <td>CHEMBL4322624</td>\n",
              "      <td>Inhibition of recombinant Schistosoma mansoni ...</td>\n",
              "      <td>B</td>\n",
              "      <td>None</td>\n",
              "      <td>None</td>\n",
              "      <td>BAO_0000190</td>\n",
              "      <td>BAO_0000219</td>\n",
              "      <td>...</td>\n",
              "      <td>Schistosoma mansoni</td>\n",
              "      <td>NAD-dependent protein deacetylase</td>\n",
              "      <td>6183</td>\n",
              "      <td>None</td>\n",
              "      <td>None</td>\n",
              "      <td>IC50</td>\n",
              "      <td>uM</td>\n",
              "      <td>UO_0000065</td>\n",
              "      <td>None</td>\n",
              "      <td>1.9</td>\n",
              "    </tr>\n",
              "  </tbody>\n",
              "</table>\n",
              "<p>3 rows × 45 columns</p>\n",
              "</div>\n",
              "      <button class=\"colab-df-convert\" onclick=\"convertToInteractive('df-0f23ee78-0b41-435f-85eb-f4a082224310')\"\n",
              "              title=\"Convert this dataframe to an interactive table.\"\n",
              "              style=\"display:none;\">\n",
              "        \n",
              "  <svg xmlns=\"http://www.w3.org/2000/svg\" height=\"24px\"viewBox=\"0 0 24 24\"\n",
              "       width=\"24px\">\n",
              "    <path d=\"M0 0h24v24H0V0z\" fill=\"none\"/>\n",
              "    <path d=\"M18.56 5.44l.94 2.06.94-2.06 2.06-.94-2.06-.94-.94-2.06-.94 2.06-2.06.94zm-11 1L8.5 8.5l.94-2.06 2.06-.94-2.06-.94L8.5 2.5l-.94 2.06-2.06.94zm10 10l.94 2.06.94-2.06 2.06-.94-2.06-.94-.94-2.06-.94 2.06-2.06.94z\"/><path d=\"M17.41 7.96l-1.37-1.37c-.4-.4-.92-.59-1.43-.59-.52 0-1.04.2-1.43.59L10.3 9.45l-7.72 7.72c-.78.78-.78 2.05 0 2.83L4 21.41c.39.39.9.59 1.41.59.51 0 1.02-.2 1.41-.59l7.78-7.78 2.81-2.81c.8-.78.8-2.07 0-2.86zM5.41 20L4 18.59l7.72-7.72 1.47 1.35L5.41 20z\"/>\n",
              "  </svg>\n",
              "      </button>\n",
              "      \n",
              "  <style>\n",
              "    .colab-df-container {\n",
              "      display:flex;\n",
              "      flex-wrap:wrap;\n",
              "      gap: 12px;\n",
              "    }\n",
              "\n",
              "    .colab-df-convert {\n",
              "      background-color: #E8F0FE;\n",
              "      border: none;\n",
              "      border-radius: 50%;\n",
              "      cursor: pointer;\n",
              "      display: none;\n",
              "      fill: #1967D2;\n",
              "      height: 32px;\n",
              "      padding: 0 0 0 0;\n",
              "      width: 32px;\n",
              "    }\n",
              "\n",
              "    .colab-df-convert:hover {\n",
              "      background-color: #E2EBFA;\n",
              "      box-shadow: 0px 1px 2px rgba(60, 64, 67, 0.3), 0px 1px 3px 1px rgba(60, 64, 67, 0.15);\n",
              "      fill: #174EA6;\n",
              "    }\n",
              "\n",
              "    [theme=dark] .colab-df-convert {\n",
              "      background-color: #3B4455;\n",
              "      fill: #D2E3FC;\n",
              "    }\n",
              "\n",
              "    [theme=dark] .colab-df-convert:hover {\n",
              "      background-color: #434B5C;\n",
              "      box-shadow: 0px 1px 3px 1px rgba(0, 0, 0, 0.15);\n",
              "      filter: drop-shadow(0px 1px 2px rgba(0, 0, 0, 0.3));\n",
              "      fill: #FFFFFF;\n",
              "    }\n",
              "  </style>\n",
              "\n",
              "      <script>\n",
              "        const buttonEl =\n",
              "          document.querySelector('#df-0f23ee78-0b41-435f-85eb-f4a082224310 button.colab-df-convert');\n",
              "        buttonEl.style.display =\n",
              "          google.colab.kernel.accessAllowed ? 'block' : 'none';\n",
              "\n",
              "        async function convertToInteractive(key) {\n",
              "          const element = document.querySelector('#df-0f23ee78-0b41-435f-85eb-f4a082224310');\n",
              "          const dataTable =\n",
              "            await google.colab.kernel.invokeFunction('convertToInteractive',\n",
              "                                                     [key], {});\n",
              "          if (!dataTable) return;\n",
              "\n",
              "          const docLinkHtml = 'Like what you see? Visit the ' +\n",
              "            '<a target=\"_blank\" href=https://colab.research.google.com/notebooks/data_table.ipynb>data table notebook</a>'\n",
              "            + ' to learn more about interactive tables.';\n",
              "          element.innerHTML = '';\n",
              "          dataTable['output_type'] = 'display_data';\n",
              "          await google.colab.output.renderOutput(dataTable, element);\n",
              "          const docLink = document.createElement('div');\n",
              "          docLink.innerHTML = docLinkHtml;\n",
              "          element.appendChild(docLink);\n",
              "        }\n",
              "      </script>\n",
              "    </div>\n",
              "  </div>\n",
              "  "
            ]
          },
          "metadata": {},
          "execution_count": 13
        }
      ]
    },
    {
      "cell_type": "markdown",
      "source": [
        "the higher the standard_value, the worse the potency becomes, so we'll need one as low as possible(more amount of drug to produce the same inhibition at 50 to produce the same effect aka \"take 5 mg of medication or 5 litres\")"
      ],
      "metadata": {
        "id": "EO9BI7_Rm3O4"
      }
    },
    {
      "cell_type": "code",
      "source": [
        "df.standard_type.unique()"
      ],
      "metadata": {
        "colab": {
          "base_uri": "https://localhost:8080/"
        },
        "id": "H4M6o2WfnFlZ",
        "outputId": "615433aa-ec87-46db-8b9f-f1b58ace2103"
      },
      "execution_count": 15,
      "outputs": [
        {
          "output_type": "execute_result",
          "data": {
            "text/plain": [
              "array(['IC50'], dtype=object)"
            ]
          },
          "metadata": {},
          "execution_count": 15
        }
      ]
    },
    {
      "cell_type": "markdown",
      "source": [
        "We're going to save the resulting bioactivity data to a CSV file bioactivity_data_schisto.csv"
      ],
      "metadata": {
        "id": "HnhwY7BAnJyO"
      }
    },
    {
      "cell_type": "code",
      "source": [
        "df.to_csv('bioactivity_data_schisto.csv', index=False)"
      ],
      "metadata": {
        "id": "2W3W8BObnRvf"
      },
      "execution_count": 16,
      "outputs": []
    },
    {
      "cell_type": "markdown",
      "source": [
        "Add to drive\n",
        "Firstly mount GDrive into Colab so we can access GDrive from Colab."
      ],
      "metadata": {
        "id": "ckeOXi09nZL1"
      }
    },
    {
      "cell_type": "code",
      "source": [
        "from google.colab import drive\n",
        "drive.mount('/content/gdrive/', force_remount=True)"
      ],
      "metadata": {
        "colab": {
          "base_uri": "https://localhost:8080/"
        },
        "id": "7rMxpcuJndzB",
        "outputId": "62de86e8-d8e6-46b2-efcf-35cf864bea6e"
      },
      "execution_count": 17,
      "outputs": [
        {
          "output_type": "stream",
          "name": "stdout",
          "text": [
            "Mounted at /content/gdrive/\n"
          ]
        }
      ]
    },
    {
      "cell_type": "markdown",
      "source": [
        "We will create a data folder in Colab Notebook folder in GDrive"
      ],
      "metadata": {
        "id": "-CP2uathno5U"
      }
    },
    {
      "cell_type": "code",
      "source": [
        "! ls \"/content/gdrive/My Drive/Colab Notebooks/\""
      ],
      "metadata": {
        "colab": {
          "base_uri": "https://localhost:8080/"
        },
        "id": "JIl7V_vxnsF3",
        "outputId": "98e02792-b861-488b-cd88-894e7ce11bbd"
      },
      "execution_count": 18,
      "outputs": [
        {
          "output_type": "stream",
          "name": "stdout",
          "text": [
            "'Breast Cancer EDA And Classification.ipynb'\n",
            "'Breast Cancer prediction using ANN.ipynb'\n",
            " CDD_ML_Part_2_Exploratory_Data_Analysis.ipynb\n",
            "'CN Sandu-Martinas.ipynb'\n",
            "'Copie a blocnotesului 1_Introducere in COLAB_RO.ipynb'\n",
            "'Copie a blocnotesului Homework 1 (1).ipynb'\n",
            "'Copie a blocnotesului Homework 1.ipynb'\n",
            "'Copie a blocnotesului lab9.ipynb'\n",
            "'Copie a blocnotesului rdkit-pip.ipynb'\n",
            " data\n",
            " dogs-vs-cats\n",
            "'Identificare tesut canceros.ipynb'\n",
            "'Intro to Keras with breast cancer data[ANN].ipynb'\n",
            "'Keras with TensorFlow Course - FreeCodeCamp'\n",
            " lab9.ipynb\n",
            "'ML_2_Exploratory Data Analysis.ipynb'\n",
            " ML_bioactivity_data.ipynb\n",
            " ML_bioactivity_schisto_data.ipynb\n",
            " ML_Exploratory_Data_Analysis.ipynb\n",
            "'Proiect RN Dynamic Duo.ipynb'\n",
            "'Stock Price Predictor.ipynb'\n",
            " Untitled0.ipynb\n",
            "'Untitled1 (1).ipynb'\n",
            " Untitled1.ipynb\n"
          ]
        }
      ]
    },
    {
      "cell_type": "code",
      "source": [
        "! mkdir \"/content/gdrive/My Drive/Colab Notebooks/data\""
      ],
      "metadata": {
        "colab": {
          "base_uri": "https://localhost:8080/"
        },
        "id": "9xSwX5MDnyWd",
        "outputId": "abc59492-d0f6-4aa6-d303-c8cdb803c80c"
      },
      "execution_count": 20,
      "outputs": [
        {
          "output_type": "stream",
          "name": "stdout",
          "text": [
            "mkdir: cannot create directory ‘/content/gdrive/My Drive/Colab Notebooks/data’: File exists\n"
          ]
        }
      ]
    },
    {
      "cell_type": "code",
      "source": [
        "! cp bioactivity_data_schisto.csv \"/content/gdrive/My Drive/Colab Notebooks/data\""
      ],
      "metadata": {
        "id": "zlzcS-1poAte"
      },
      "execution_count": 21,
      "outputs": []
    },
    {
      "cell_type": "code",
      "source": [
        "! ls -l \"/content/gdrive/My Drive/Colab Notebooks/data\""
      ],
      "metadata": {
        "colab": {
          "base_uri": "https://localhost:8080/"
        },
        "id": "IxVL-v6PoHcY",
        "outputId": "31501d61-145b-4602-d3c7-d85e381fcc87"
      },
      "execution_count": 22,
      "outputs": [
        {
          "output_type": "stream",
          "name": "stdout",
          "text": [
            "total 89\n",
            "-rw------- 1 root root 68258 Apr 29 15:36 bioactivity_data.csv\n",
            "-rw------- 1 root root 13120 Apr 29 20:07 bioactivity_data_schisto.csv\n",
            "-rw------- 1 root root  9112 Apr 29 15:37 bioactivity_preprocessed_data.csv\n"
          ]
        }
      ]
    },
    {
      "cell_type": "markdown",
      "source": [
        "The CSV files for now"
      ],
      "metadata": {
        "id": "ukXpi3uboN30"
      }
    },
    {
      "cell_type": "code",
      "source": [
        "!ls"
      ],
      "metadata": {
        "colab": {
          "base_uri": "https://localhost:8080/"
        },
        "id": "jBw9RJsEoP6o",
        "outputId": "478284bd-8e45-49d4-8f6b-e670e8ac1900"
      },
      "execution_count": 23,
      "outputs": [
        {
          "output_type": "stream",
          "name": "stdout",
          "text": [
            "bioactivity_data_schisto.csv  gdrive  sample_data\n"
          ]
        }
      ]
    },
    {
      "cell_type": "markdown",
      "source": [
        "we'll take a brief look at the bioactivity_data_schisto.csv file that was just created"
      ],
      "metadata": {
        "id": "wtYDmIMAoR-U"
      }
    },
    {
      "cell_type": "code",
      "source": [
        "! head bioactivity_data_schisto.csv"
      ],
      "metadata": {
        "colab": {
          "base_uri": "https://localhost:8080/"
        },
        "id": "HO221OtFoaOV",
        "outputId": "4c359f8c-4c11-4e44-b9c1-e0a4d4e84020"
      },
      "execution_count": 24,
      "outputs": [
        {
          "output_type": "stream",
          "name": "stdout",
          "text": [
            "activity_comment,activity_id,activity_properties,assay_chembl_id,assay_description,assay_type,assay_variant_accession,assay_variant_mutation,bao_endpoint,bao_format,bao_label,canonical_smiles,data_validity_comment,data_validity_description,document_chembl_id,document_journal,document_year,ligand_efficiency,molecule_chembl_id,molecule_pref_name,parent_molecule_chembl_id,pchembl_value,potential_duplicate,qudt_units,record_id,relation,src_id,standard_flag,standard_relation,standard_text_value,standard_type,standard_units,standard_upper_value,standard_value,target_chembl_id,target_organism,target_pref_name,target_tax_id,text_value,toid,type,units,uo_units,upper_value,value\n",
            ",18918972,[],CHEMBL4322639,Inhibition of recombinant Schistosoma mansoni sirtuin 2 (21 to 322 residues) expressed in Escherichia coli BL21(DE3) cells assessed as inhibition of substrate deacetylation using ZMAL as substrate,B,,,BAO_0000190,BAO_0000219,cell-based format,NC(=O)c1cccnc1,,,CHEMBL4321809,J Med Chem,2019,\"{'bei': '37.96', 'le': '0.70', 'lle': '4.46', 'sei': '8.28'}\",CHEMBL1140,NIACINAMIDE,CHEMBL1140,4.64,0,http://www.openphacts.org/units/Nanomolar,3156248,=,1,1,=,,IC50,nM,,23100.0,CHEMBL4523517,Schistosoma mansoni,NAD-dependent protein deacetylase,6183,,,IC50,uM,UO_0000065,,23.1\n",
            ",18918974,[],CHEMBL4322641,Inhibition of recombinant Schistosoma mansoni sirtuin 2 (21 to 322 residues) expressed in Escherichia coli BL21(DE3) cells assessed as inhibition of substrate demyristoylation using (Z)-(Myr)-Lys-AMC as substrate,B,,,BAO_0000190,BAO_0000219,cell-based format,NC(=O)c1cccnc1,Outside typical range,\"Values for this activity type are unusually large/small, so may not be accurate\",CHEMBL4321809,J Med Chem,2019,,CHEMBL1140,NIACINAMIDE,CHEMBL1140,,0,http://www.openphacts.org/units/Nanomolar,3156248,=,1,1,=,,IC50,nM,,420000.0,CHEMBL4523517,Schistosoma mansoni,NAD-dependent protein deacetylase,6183,,,IC50,uM,UO_0000065,,420.0\n",
            ",18918975,[],CHEMBL4322624,Inhibition of recombinant Schistosoma mansoni sirtuin 2 (21 to 322 residues) expressed in Escherichia coli BL21(DE3) cells using ZMAL as substrate after 1 hr in presence of NAD+ by homogeneous fluorescence based analysis,B,,,BAO_0000190,BAO_0000219,cell-based format,COC1=C(OC)C(=O)C(CCCCCCCCCCO)=C(C)C1=O,,,CHEMBL4321809,J Med Chem,2019,\"{'bei': '16.90', 'le': '0.33', 'lle': '2.26', 'sei': '7.86'}\",CHEMBL252556,IDEBENONE,CHEMBL252556,5.72,0,http://www.openphacts.org/units/Nanomolar,3156207,=,1,1,=,,IC50,nM,,1900.0,CHEMBL4523517,Schistosoma mansoni,NAD-dependent protein deacetylase,6183,,,IC50,uM,UO_0000065,,1.9\n",
            ",18918976,[],CHEMBL4322624,Inhibition of recombinant Schistosoma mansoni sirtuin 2 (21 to 322 residues) expressed in Escherichia coli BL21(DE3) cells using ZMAL as substrate after 1 hr in presence of NAD+ by homogeneous fluorescence based analysis,B,,,BAO_0000190,BAO_0000219,cell-based format,O=C(c1cc2cc(Cl)ccc2[nH]1)N1CCCCC1c1cccnc1,,,CHEMBL4321809,J Med Chem,2019,\"{'bei': '13.95', 'le': '0.27', 'lle': '0.16', 'sei': '9.68'}\",CHEMBL3430999,,CHEMBL3430999,4.74,0,http://www.openphacts.org/units/Nanomolar,3156208,=,1,1,=,,IC50,nM,,18200.0,CHEMBL4523517,Schistosoma mansoni,NAD-dependent protein deacetylase,6183,,,IC50,uM,UO_0000065,,18.2\n",
            ",18918977,[],CHEMBL4322624,Inhibition of recombinant Schistosoma mansoni sirtuin 2 (21 to 322 residues) expressed in Escherichia coli BL21(DE3) cells using ZMAL as substrate after 1 hr in presence of NAD+ by homogeneous fluorescence based analysis,B,,,BAO_0000190,BAO_0000219,cell-based format,CC(=O)Nc1ccc(-c2noc(CC3CCCN(Cc4cccc(F)c4C)C3)n2)cc1,,,CHEMBL4321809,J Med Chem,2019,\"{'bei': '11.49', 'le': '0.21', 'lle': '0.25', 'sei': '6.81'}\",CHEMBL3431191,,CHEMBL3431191,4.85,0,http://www.openphacts.org/units/Nanomolar,3156209,=,1,1,=,,IC50,nM,,14000.0,CHEMBL4523517,Schistosoma mansoni,NAD-dependent protein deacetylase,6183,,,IC50,uM,UO_0000065,14.5,14.0\n",
            ",18918978,[],CHEMBL4322624,Inhibition of recombinant Schistosoma mansoni sirtuin 2 (21 to 322 residues) expressed in Escherichia coli BL21(DE3) cells using ZMAL as substrate after 1 hr in presence of NAD+ by homogeneous fluorescence based analysis,B,,,BAO_0000190,BAO_0000219,cell-based format,COc1ccc(Oc2ccc(C(C)N(C)c3ncc4c(N)nc(N)nc4n3)cc2)cc1,,,CHEMBL4321809,J Med Chem,2019,\"{'bei': '11.08', 'le': '0.20', 'lle': '1.05', 'sei': '3.69'}\",CHEMBL3431127,,CHEMBL3431127,4.62,0,http://www.openphacts.org/units/Nanomolar,3156210,=,1,1,=,,IC50,nM,,23700.0,CHEMBL4523517,Schistosoma mansoni,NAD-dependent protein deacetylase,6183,,,IC50,uM,UO_0000065,,23.7\n",
            ",18918979,[],CHEMBL4322624,Inhibition of recombinant Schistosoma mansoni sirtuin 2 (21 to 322 residues) expressed in Escherichia coli BL21(DE3) cells using ZMAL as substrate after 1 hr in presence of NAD+ by homogeneous fluorescence based analysis,B,,,BAO_0000190,BAO_0000219,cell-based format,CCC(c1ccc(Oc2ccc(OC)cc2)cc1)N(C)c1ncc2c(N)nc(N)nc2n1,,,CHEMBL4321809,J Med Chem,2019,\"{'bei': '11.34', 'le': '0.21', 'lle': '0.92', 'sei': '3.90'}\",CHEMBL4459211,,CHEMBL4459211,4.89,0,http://www.openphacts.org/units/Nanomolar,3156225,=,1,1,=,,IC50,nM,,12800.0,CHEMBL4523517,Schistosoma mansoni,NAD-dependent protein deacetylase,6183,,,IC50,uM,UO_0000065,,12.8\n",
            ",18918980,[],CHEMBL4322624,Inhibition of recombinant Schistosoma mansoni sirtuin 2 (21 to 322 residues) expressed in Escherichia coli BL21(DE3) cells using ZMAL as substrate after 1 hr in presence of NAD+ by homogeneous fluorescence based analysis,B,,,BAO_0000190,BAO_0000219,cell-based format,COc1ccc(Oc2ccc(C(C(C)C)N(C)c3ncc4c(N)nc(N)nc4n3)cc2)cc1,,,CHEMBL4321809,J Med Chem,2019,\"{'bei': '10.23', 'le': '0.19', 'lle': '0.34', 'sei': '3.64'}\",CHEMBL4571708,,CHEMBL4571708,4.56,0,http://www.openphacts.org/units/Nanomolar,3156226,=,1,1,=,,IC50,nM,,27700.0,CHEMBL4523517,Schistosoma mansoni,NAD-dependent protein deacetylase,6183,,,IC50,uM,UO_0000065,,27.7\n",
            ",18918981,[],CHEMBL4322624,Inhibition of recombinant Schistosoma mansoni sirtuin 2 (21 to 322 residues) expressed in Escherichia coli BL21(DE3) cells using ZMAL as substrate after 1 hr in presence of NAD+ by homogeneous fluorescence based analysis,B,,,BAO_0000190,BAO_0000219,cell-based format,COc1ccc(Oc2ccc(C(c3ccccc3)N(C)c3ncc4c(N)nc(N)nc4n3)cc2)cc1,,,CHEMBL4321809,J Med Chem,2019,\"{'bei': '11.74', 'le': '0.21', 'lle': '1.02', 'sei': '4.49'}\",CHEMBL4442390,,CHEMBL4442390,5.63,0,http://www.openphacts.org/units/Nanomolar,3156228,=,1,1,=,,IC50,nM,,2340.0,CHEMBL4523517,Schistosoma mansoni,NAD-dependent protein deacetylase,6183,,,IC50,uM,UO_0000065,,2.34\n"
          ]
        }
      ]
    }
  ]
}