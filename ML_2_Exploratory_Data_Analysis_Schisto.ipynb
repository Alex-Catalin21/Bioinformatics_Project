{
 "cells": [
  {
   "cell_type": "markdown",
   "metadata": {
    "id": "1ST8cd4JwQQl"
   },
   "source": [
    "# **Exploratory Data Analysis**"
   ]
  },
  {
   "cell_type": "markdown",
   "metadata": {
    "id": "IsmIs2qrwXmK"
   },
   "source": [
    "## Here we will be performing Descriptor Calculation and Exploratory Data Analysis"
   ]
  },
  {
   "cell_type": "markdown",
   "metadata": {
    "id": "MWVEoCHpwefz"
   },
   "source": [
    "### We will be using conda and rdkit"
   ]
  },
  {
   "cell_type": "code",
   "execution_count": 2,
   "metadata": {
    "id": "Mj-N6EDMwi93"
   },
   "outputs": [],
   "source": [
    "# ! wget https://repo.anaconda.com/miniconda/Miniconda3-py310_23.3.1-0-Linux-x86_64.sh\n",
    "# ! chmod +x Miniconda3-py310_23.3.1-0-Linux-x86_64.sh\n",
    "# ! bash ./Miniconda3-py310_23.3.1-0-Linux-x86_64.sh -b -f -p /usr/local\n",
    "# ! conda install -c rdkit rdkit -y\n",
    "# import sys\n",
    "# sys.path.append('usr/local/lib/python3.10/site-packages/')"
   ]
  },
  {
   "cell_type": "code",
   "execution_count": 3,
   "metadata": {
    "id": "V5erYl4mwk2O"
   },
   "outputs": [],
   "source": [
    "# !pip install rdkit deepchem"
   ]
  },
  {
   "cell_type": "code",
   "execution_count": 4,
   "metadata": {
    "id": "TLp90ilewmZD"
   },
   "outputs": [],
   "source": [
    "# ! wget https://repo.anaconda.com/miniconda/Miniconda3-py37_4.8.2-Linux-x86_64.sh\n",
    "# ! chmod +x Miniconda3-py37_4.8.2-Linux-x86_64.sh\n",
    "# ! bash ./Miniconda3-py37_4.8.2-Linux-x86_64.sh -b -f -p /usr/local\n",
    "# ! conda install -c rdkit rdkit -y\n",
    "# import sys\n",
    "# sys.path.append('usr/local/lib/python3.7/site-packages/')"
   ]
  },
  {
   "cell_type": "markdown",
   "metadata": {
    "id": "2TOeF3qUwoU8"
   },
   "source": [
    "**The following section is a bugfix for rdkit not found**"
   ]
  },
  {
   "cell_type": "code",
   "execution_count": 5,
   "metadata": {
    "colab": {
     "base_uri": "https://localhost:8080/"
    },
    "id": "g8qAXHrJvTa8",
    "outputId": "be9e5bad-7b98-49d9-f143-09843918fc0f"
   },
   "outputs": [
    {
     "name": "stdout",
     "output_type": "stream",
     "text": [
      "Collecting rdkit-pypi\n",
      "  Downloading rdkit_pypi-2022.9.5-cp39-cp39-win_amd64.whl (20.5 MB)\n",
      "     ---------------------------------------- 20.5/20.5 MB 1.7 MB/s eta 0:00:00\n",
      "Requirement already satisfied: Pillow in d:\\anaconda3\\lib\\site-packages (from rdkit-pypi) (9.2.0)\n",
      "Requirement already satisfied: numpy in d:\\anaconda3\\lib\\site-packages (from rdkit-pypi) (1.22.3)\n",
      "Installing collected packages: rdkit-pypi\n",
      "Successfully installed rdkit-pypi-2022.9.5\n"
     ]
    },
    {
     "name": "stderr",
     "output_type": "stream",
     "text": [
      "WARNING: Ignoring invalid distribution -cipy (d:\\anaconda3\\lib\\site-packages)\n",
      "WARNING: Ignoring invalid distribution -cipy (d:\\anaconda3\\lib\\site-packages)\n",
      "WARNING: Ignoring invalid distribution -cipy (d:\\anaconda3\\lib\\site-packages)\n",
      "WARNING: Ignoring invalid distribution -cipy (d:\\anaconda3\\lib\\site-packages)\n",
      "WARNING: Ignoring invalid distribution -cipy (d:\\anaconda3\\lib\\site-packages)\n",
      "WARNING: Ignoring invalid distribution -cipy (d:\\anaconda3\\lib\\site-packages)\n",
      "WARNING: Ignoring invalid distribution -cipy (d:\\anaconda3\\lib\\site-packages)\n"
     ]
    }
   ],
   "source": [
    "!pip install rdkit-pypi"
   ]
  },
  {
   "cell_type": "code",
   "execution_count": 6,
   "metadata": {
    "colab": {
     "base_uri": "https://localhost:8080/"
    },
    "id": "qER2tUzZvbvV",
    "outputId": "c980c533-08da-4408-fc53-9564eb317937"
   },
   "outputs": [
    {
     "name": "stderr",
     "output_type": "stream",
     "text": [
      "'cat' is not recognized as an internal or external command,\n",
      "operable program or batch file.\n"
     ]
    }
   ],
   "source": [
    "!cat /etc/lsb-release"
   ]
  },
  {
   "cell_type": "code",
   "execution_count": 7,
   "metadata": {
    "colab": {
     "base_uri": "https://localhost:8080/"
    },
    "id": "r_GfDoKPvgis",
    "outputId": "dbb6507d-56b6-4651-fa8d-78273ee2d78b"
   },
   "outputs": [
    {
     "name": "stdout",
     "output_type": "stream",
     "text": [
      "['C:\\\\Users\\\\Alex\\\\Desktop\\\\GitHub\\\\Bioinformatics_Project', 'D:\\\\anaconda3\\\\python39.zip', 'D:\\\\anaconda3\\\\DLLs', 'D:\\\\anaconda3\\\\lib', 'D:\\\\anaconda3', '', 'C:\\\\Users\\\\Alex\\\\AppData\\\\Roaming\\\\Python\\\\Python39\\\\site-packages', 'D:\\\\anaconda3\\\\lib\\\\site-packages', 'D:\\\\anaconda3\\\\lib\\\\site-packages\\\\win32', 'D:\\\\anaconda3\\\\lib\\\\site-packages\\\\win32\\\\lib', 'D:\\\\anaconda3\\\\lib\\\\site-packages\\\\Pythonwin']\n"
     ]
    }
   ],
   "source": [
    "import sys\n",
    "print(sys.path)"
   ]
  },
  {
   "cell_type": "code",
   "execution_count": 8,
   "metadata": {
    "id": "WgE5Zo88vjPy"
   },
   "outputs": [],
   "source": [
    "import rdkit\n",
    "from rdkit import Chem\n",
    "from IPython import display\n",
    "from rdkit.Chem.Draw import IPythonConsole\n",
    "from IPython.display import display\n",
    "import pandas"
   ]
  },
  {
   "cell_type": "code",
   "execution_count": 9,
   "metadata": {
    "id": "RZTqxHoRvvrV"
   },
   "outputs": [],
   "source": [
    "mol = Chem.MolFromSmiles('c1ccccc1C(=O)O')"
   ]
  },
  {
   "cell_type": "code",
   "execution_count": 10,
   "metadata": {
    "colab": {
     "base_uri": "https://localhost:8080/",
     "height": 167
    },
    "id": "ICrPsjYUv2y_",
    "outputId": "534e7250-ec59-482c-d624-1d12811e652d"
   },
   "outputs": [
    {
     "data": {
      "image/png": "[encoded data removed]",
      "text/plain": [
       "<rdkit.Chem.rdchem.Mol at 0x1bd54b420b0>"
      ]
     },
     "execution_count": 10,
     "metadata": {},
     "output_type": "execute_result"
    }
   ],
   "source": [
    "mol"
   ]
  },
  {
   "cell_type": "code",
   "execution_count": 11,
   "metadata": {
    "colab": {
     "base_uri": "https://localhost:8080/",
     "height": 167
    },
    "id": "IdBwqDTlv4Wo",
    "outputId": "f6828072-2465-4d32-e0b2-ad589b567e56",
    "scrolled": true
   },
   "outputs": [
    {
     "data": {
      "image/png": "[encoded data removed]",
      "text/plain": [
       "<rdkit.Chem.rdchem.Mol at 0x1bd54b420b0>"
      ]
     },
     "metadata": {},
     "output_type": "display_data"
    }
   ],
   "source": [
    "display(mol)"
   ]
  },
  {
   "cell_type": "markdown",
   "metadata": {
    "id": "TNif9vt5xBy7"
   },
   "source": [
    "**Bugfix Section end**"
   ]
  },
  {
   "cell_type": "markdown",
   "metadata": {
    "id": "5-mYEpvxxFm8"
   },
   "source": [
    "## **Load bioactivity data**"
   ]
  },
  {
   "cell_type": "code",
   "execution_count": 12,
   "metadata": {
    "id": "Wjl-4BlhxI2k"
   },
   "outputs": [],
   "source": [
    "import pandas as pd"
   ]
  },
  {
   "cell_type": "code",
   "execution_count": 13,
   "metadata": {
    "id": "TLOEzKz-xLOp"
   },
   "outputs": [],
   "source": [
    "df = pd.read_csv('bioactivity_preprocessed_schisto_data.csv')"
   ]
  },
  {
   "cell_type": "markdown",
   "metadata": {
    "id": "u8sV1KpBypVu"
   },
   "source": [
    "**Lipinski**"
   ]
  },
  {
   "cell_type": "markdown",
   "metadata": {},
   "source": [
    "Set of rules for evaluating the druglikeness of compounds. This is based on the Absorbtion, Distribution, Metabolism and Excretion(ADME). This is also known as pharmacokinetic profile."
   ]
  },
  {
   "cell_type": "markdown",
   "metadata": {},
   "source": [
    "Lipinski's Rule:\n",
    "- Molecular weight < 500 Dalton\n",
    "- Octanol-water partition coefficient(LogP) < 5\n",
    "- Hydrogen bond donors < 5\n",
    "- Hydrogen bond acceptors < 10"
   ]
  },
  {
   "cell_type": "markdown",
   "metadata": {},
   "source": [
    "### Import libraries ###"
   ]
  },
  {
   "cell_type": "code",
   "execution_count": 14,
   "metadata": {},
   "outputs": [],
   "source": [
    "import numpy as np\n",
    "from rdkit import Chem\n",
    "from rdkit.Chem import Descriptors, Lipinski"
   ]
  },
  {
   "cell_type": "markdown",
   "metadata": {},
   "source": [
    "### Calculate descriptors"
   ]
  },
  {
   "cell_type": "code",
   "execution_count": 15,
   "metadata": {},
   "outputs": [],
   "source": [
    "# Inspired by : https://codeocean.com/explore/capsules?query=tag:data-curation\n",
    "\n",
    "def lipinski(smiles, verbose=False):\n",
    "    \n",
    "    moldata = []\n",
    "    for elem in smiles:\n",
    "        mol=Chem.MolFromSmiles(elem)\n",
    "        moldata.append(mol)\n",
    "        \n",
    "    baseData = np.arange(1,1)\n",
    "    i=0\n",
    "    for mol in moldata:\n",
    "        \n",
    "        desc_MolWt = Descriptors.MolWt(mol)\n",
    "        desc_MolLogP = Descriptors.MolLogP(mol)\n",
    "        desc_NumHDonors = Lipinski.NumHDonors(mol)\n",
    "        desc_NumHAcceptors = Lipinski.NumHAcceptors(mol)\n",
    "        \n",
    "        row = np.array([desc_MolWt,\n",
    "                       desc_MolLogP,\n",
    "                       desc_NumHDonors,\n",
    "                       desc_NumHAcceptors])\n",
    "        if(i==0):\n",
    "            baseData=row\n",
    "        else:\n",
    "            baseData=np.vstack([baseData, row])\n",
    "        i=i+1\n",
    "        \n",
    "    columnNames = [\"MW\",\"LogP\",\"NumHDonors\",\"NumHAcceptors\"]\n",
    "    descriptors = pd.DataFrame(data=baseData, columns=columnNames)\n",
    "    \n",
    "    return descriptors"
   ]
  },
  {
   "cell_type": "code",
   "execution_count": 16,
   "metadata": {},
   "outputs": [],
   "source": [
    "df_lipinski = lipinski(df.canonical_smiles)"
   ]
  },
  {
   "cell_type": "markdown",
   "metadata": {},
   "source": [
    "### Combine DataFrames"
   ]
  },
  {
   "cell_type": "markdown",
   "metadata": {},
   "source": [
    "Lets take a look at the 2 DataFrames that will be combined."
   ]
  },
  {
   "cell_type": "code",
   "execution_count": 18,
   "metadata": {},
   "outputs": [
    {
     "data": {
      "text/html": [
       "<div>\n",
       "<style scoped>\n",
       "    .dataframe tbody tr th:only-of-type {\n",
       "        vertical-align: middle;\n",
       "    }\n",
       "\n",
       "    .dataframe tbody tr th {\n",
       "        vertical-align: top;\n",
       "    }\n",
       "\n",
       "    .dataframe thead th {\n",
       "        text-align: right;\n",
       "    }\n",
       "</style>\n",
       "<table border=\"1\" class=\"dataframe\">\n",
       "  <thead>\n",
       "    <tr style=\"text-align: right;\">\n",
       "      <th></th>\n",
       "      <th>MW</th>\n",
       "      <th>LogP</th>\n",
       "      <th>NumHDonors</th>\n",
       "      <th>NumHAcceptors</th>\n",
       "    </tr>\n",
       "  </thead>\n",
       "  <tbody>\n",
       "    <tr>\n",
       "      <th>0</th>\n",
       "      <td>122.127</td>\n",
       "      <td>0.18050</td>\n",
       "      <td>1.0</td>\n",
       "      <td>2.0</td>\n",
       "    </tr>\n",
       "    <tr>\n",
       "      <th>1</th>\n",
       "      <td>122.127</td>\n",
       "      <td>0.18050</td>\n",
       "      <td>1.0</td>\n",
       "      <td>2.0</td>\n",
       "    </tr>\n",
       "    <tr>\n",
       "      <th>2</th>\n",
       "      <td>338.444</td>\n",
       "      <td>3.46230</td>\n",
       "      <td>1.0</td>\n",
       "      <td>5.0</td>\n",
       "    </tr>\n",
       "    <tr>\n",
       "      <th>3</th>\n",
       "      <td>339.826</td>\n",
       "      <td>4.58370</td>\n",
       "      <td>1.0</td>\n",
       "      <td>2.0</td>\n",
       "    </tr>\n",
       "    <tr>\n",
       "      <th>4</th>\n",
       "      <td>422.504</td>\n",
       "      <td>4.59722</td>\n",
       "      <td>1.0</td>\n",
       "      <td>5.0</td>\n",
       "    </tr>\n",
       "    <tr>\n",
       "      <th>5</th>\n",
       "      <td>417.473</td>\n",
       "      <td>3.58250</td>\n",
       "      <td>2.0</td>\n",
       "      <td>9.0</td>\n",
       "    </tr>\n",
       "    <tr>\n",
       "      <th>6</th>\n",
       "      <td>431.500</td>\n",
       "      <td>3.97260</td>\n",
       "      <td>2.0</td>\n",
       "      <td>9.0</td>\n",
       "    </tr>\n",
       "    <tr>\n",
       "      <th>7</th>\n",
       "      <td>445.527</td>\n",
       "      <td>4.21860</td>\n",
       "      <td>2.0</td>\n",
       "      <td>9.0</td>\n",
       "    </tr>\n",
       "    <tr>\n",
       "      <th>8</th>\n",
       "      <td>479.544</td>\n",
       "      <td>4.61090</td>\n",
       "      <td>2.0</td>\n",
       "      <td>9.0</td>\n",
       "    </tr>\n",
       "    <tr>\n",
       "      <th>9</th>\n",
       "      <td>417.473</td>\n",
       "      <td>3.58250</td>\n",
       "      <td>2.0</td>\n",
       "      <td>9.0</td>\n",
       "    </tr>\n",
       "    <tr>\n",
       "      <th>10</th>\n",
       "      <td>447.499</td>\n",
       "      <td>3.59110</td>\n",
       "      <td>2.0</td>\n",
       "      <td>10.0</td>\n",
       "    </tr>\n",
       "    <tr>\n",
       "      <th>11</th>\n",
       "      <td>447.499</td>\n",
       "      <td>3.59110</td>\n",
       "      <td>2.0</td>\n",
       "      <td>10.0</td>\n",
       "    </tr>\n",
       "    <tr>\n",
       "      <th>12</th>\n",
       "      <td>509.570</td>\n",
       "      <td>4.61950</td>\n",
       "      <td>2.0</td>\n",
       "      <td>10.0</td>\n",
       "    </tr>\n",
       "    <tr>\n",
       "      <th>13</th>\n",
       "      <td>477.525</td>\n",
       "      <td>3.59970</td>\n",
       "      <td>2.0</td>\n",
       "      <td>11.0</td>\n",
       "    </tr>\n",
       "    <tr>\n",
       "      <th>14</th>\n",
       "      <td>433.541</td>\n",
       "      <td>3.94140</td>\n",
       "      <td>2.0</td>\n",
       "      <td>9.0</td>\n",
       "    </tr>\n",
       "    <tr>\n",
       "      <th>15</th>\n",
       "      <td>463.567</td>\n",
       "      <td>3.95000</td>\n",
       "      <td>2.0</td>\n",
       "      <td>10.0</td>\n",
       "    </tr>\n",
       "    <tr>\n",
       "      <th>16</th>\n",
       "      <td>525.638</td>\n",
       "      <td>4.97840</td>\n",
       "      <td>2.0</td>\n",
       "      <td>10.0</td>\n",
       "    </tr>\n",
       "    <tr>\n",
       "      <th>17</th>\n",
       "      <td>416.489</td>\n",
       "      <td>3.53380</td>\n",
       "      <td>3.0</td>\n",
       "      <td>9.0</td>\n",
       "    </tr>\n",
       "    <tr>\n",
       "      <th>18</th>\n",
       "      <td>417.473</td>\n",
       "      <td>3.58250</td>\n",
       "      <td>2.0</td>\n",
       "      <td>9.0</td>\n",
       "    </tr>\n",
       "  </tbody>\n",
       "</table>\n",
       "</div>"
      ],
      "text/plain": [
       "         MW     LogP  NumHDonors  NumHAcceptors\n",
       "0   122.127  0.18050         1.0            2.0\n",
       "1   122.127  0.18050         1.0            2.0\n",
       "2   338.444  3.46230         1.0            5.0\n",
       "3   339.826  4.58370         1.0            2.0\n",
       "4   422.504  4.59722         1.0            5.0\n",
       "5   417.473  3.58250         2.0            9.0\n",
       "6   431.500  3.97260         2.0            9.0\n",
       "7   445.527  4.21860         2.0            9.0\n",
       "8   479.544  4.61090         2.0            9.0\n",
       "9   417.473  3.58250         2.0            9.0\n",
       "10  447.499  3.59110         2.0           10.0\n",
       "11  447.499  3.59110         2.0           10.0\n",
       "12  509.570  4.61950         2.0           10.0\n",
       "13  477.525  3.59970         2.0           11.0\n",
       "14  433.541  3.94140         2.0            9.0\n",
       "15  463.567  3.95000         2.0           10.0\n",
       "16  525.638  4.97840         2.0           10.0\n",
       "17  416.489  3.53380         3.0            9.0\n",
       "18  417.473  3.58250         2.0            9.0"
      ]
     },
     "execution_count": 18,
     "metadata": {},
     "output_type": "execute_result"
    }
   ],
   "source": [
    "df_lipinski"
   ]
  },
  {
   "cell_type": "code",
   "execution_count": 19,
   "metadata": {},
   "outputs": [
    {
     "data": {
      "text/html": [
       "<div>\n",
       "<style scoped>\n",
       "    .dataframe tbody tr th:only-of-type {\n",
       "        vertical-align: middle;\n",
       "    }\n",
       "\n",
       "    .dataframe tbody tr th {\n",
       "        vertical-align: top;\n",
       "    }\n",
       "\n",
       "    .dataframe thead th {\n",
       "        text-align: right;\n",
       "    }\n",
       "</style>\n",
       "<table border=\"1\" class=\"dataframe\">\n",
       "  <thead>\n",
       "    <tr style=\"text-align: right;\">\n",
       "      <th></th>\n",
       "      <th>molecule_chembl_id</th>\n",
       "      <th>canonical_smiles</th>\n",
       "      <th>standard_value</th>\n",
       "    </tr>\n",
       "  </thead>\n",
       "  <tbody>\n",
       "    <tr>\n",
       "      <th>0</th>\n",
       "      <td>CHEMBL1140</td>\n",
       "      <td>NC(=O)c1cccnc1</td>\n",
       "      <td>23100.0</td>\n",
       "    </tr>\n",
       "    <tr>\n",
       "      <th>1</th>\n",
       "      <td>CHEMBL1140</td>\n",
       "      <td>NC(=O)c1cccnc1</td>\n",
       "      <td>420000.0</td>\n",
       "    </tr>\n",
       "    <tr>\n",
       "      <th>2</th>\n",
       "      <td>CHEMBL252556</td>\n",
       "      <td>COC1=C(OC)C(=O)C(CCCCCCCCCCO)=C(C)C1=O</td>\n",
       "      <td>1900.0</td>\n",
       "    </tr>\n",
       "    <tr>\n",
       "      <th>3</th>\n",
       "      <td>CHEMBL3430999</td>\n",
       "      <td>O=C(c1cc2cc(Cl)ccc2[nH]1)N1CCCCC1c1cccnc1</td>\n",
       "      <td>18200.0</td>\n",
       "    </tr>\n",
       "    <tr>\n",
       "      <th>4</th>\n",
       "      <td>CHEMBL3431191</td>\n",
       "      <td>CC(=O)Nc1ccc(-c2noc(CC3CCCN(Cc4cccc(F)c4C)C3)n...</td>\n",
       "      <td>14000.0</td>\n",
       "    </tr>\n",
       "    <tr>\n",
       "      <th>5</th>\n",
       "      <td>CHEMBL3431127</td>\n",
       "      <td>COc1ccc(Oc2ccc(C(C)N(C)c3ncc4c(N)nc(N)nc4n3)cc...</td>\n",
       "      <td>23700.0</td>\n",
       "    </tr>\n",
       "    <tr>\n",
       "      <th>6</th>\n",
       "      <td>CHEMBL4459211</td>\n",
       "      <td>CCC(c1ccc(Oc2ccc(OC)cc2)cc1)N(C)c1ncc2c(N)nc(N...</td>\n",
       "      <td>12800.0</td>\n",
       "    </tr>\n",
       "    <tr>\n",
       "      <th>7</th>\n",
       "      <td>CHEMBL4571708</td>\n",
       "      <td>COc1ccc(Oc2ccc(C(C(C)C)N(C)c3ncc4c(N)nc(N)nc4n...</td>\n",
       "      <td>27700.0</td>\n",
       "    </tr>\n",
       "    <tr>\n",
       "      <th>8</th>\n",
       "      <td>CHEMBL4442390</td>\n",
       "      <td>COc1ccc(Oc2ccc(C(c3ccccc3)N(C)c3ncc4c(N)nc(N)n...</td>\n",
       "      <td>2340.0</td>\n",
       "    </tr>\n",
       "    <tr>\n",
       "      <th>9</th>\n",
       "      <td>CHEMBL4529336</td>\n",
       "      <td>COc1cccc(Oc2ccc(C(C)N(C)c3ncc4c(N)nc(N)nc4n3)c...</td>\n",
       "      <td>23100.0</td>\n",
       "    </tr>\n",
       "    <tr>\n",
       "      <th>10</th>\n",
       "      <td>CHEMBL4579496</td>\n",
       "      <td>COc1ccc(Oc2ccc(C(C)N(C)c3ncc4c(N)nc(N)nc4n3)cc...</td>\n",
       "      <td>44700.0</td>\n",
       "    </tr>\n",
       "    <tr>\n",
       "      <th>11</th>\n",
       "      <td>CHEMBL4577629</td>\n",
       "      <td>COc1cc(OC)cc(Oc2ccc(C(C)N(C)c3ncc4c(N)nc(N)nc4...</td>\n",
       "      <td>12500.0</td>\n",
       "    </tr>\n",
       "    <tr>\n",
       "      <th>12</th>\n",
       "      <td>CHEMBL4567519</td>\n",
       "      <td>COc1cc(OC)cc(Oc2ccc(C(c3ccccc3)N(C)c3ncc4c(N)n...</td>\n",
       "      <td>3300.0</td>\n",
       "    </tr>\n",
       "    <tr>\n",
       "      <th>13</th>\n",
       "      <td>CHEMBL4533566</td>\n",
       "      <td>COc1cc(Oc2ccc(C(C)N(C)c3ncc4c(N)nc(N)nc4n3)cc2...</td>\n",
       "      <td>30800.0</td>\n",
       "    </tr>\n",
       "    <tr>\n",
       "      <th>14</th>\n",
       "      <td>CHEMBL4526249</td>\n",
       "      <td>COc1ccc(Sc2ccc(C(C)N(C)c3ncc4c(N)nc(N)nc4n3)cc...</td>\n",
       "      <td>14900.0</td>\n",
       "    </tr>\n",
       "    <tr>\n",
       "      <th>15</th>\n",
       "      <td>CHEMBL4461910</td>\n",
       "      <td>COc1cc(OC)cc(Sc2ccc(C(C)N(C)c3ncc4c(N)nc(N)nc4...</td>\n",
       "      <td>4300.0</td>\n",
       "    </tr>\n",
       "    <tr>\n",
       "      <th>16</th>\n",
       "      <td>CHEMBL4444104</td>\n",
       "      <td>COc1cc(OC)cc(Sc2ccc(C(c3ccccc3)N(C)c3ncc4c(N)n...</td>\n",
       "      <td>2000.0</td>\n",
       "    </tr>\n",
       "    <tr>\n",
       "      <th>17</th>\n",
       "      <td>CHEMBL4562238</td>\n",
       "      <td>COc1ccc(Nc2ccc(C(C)N(C)c3ncc4c(N)nc(N)nc4n3)cc...</td>\n",
       "      <td>65100.0</td>\n",
       "    </tr>\n",
       "    <tr>\n",
       "      <th>18</th>\n",
       "      <td>CHEMBL3431127</td>\n",
       "      <td>COc1ccc(Oc2ccc(C(C)N(C)c3ncc4c(N)nc(N)nc4n3)cc...</td>\n",
       "      <td>16800.0</td>\n",
       "    </tr>\n",
       "  </tbody>\n",
       "</table>\n",
       "</div>"
      ],
      "text/plain": [
       "   molecule_chembl_id                                   canonical_smiles  \\\n",
       "0          CHEMBL1140                                     NC(=O)c1cccnc1   \n",
       "1          CHEMBL1140                                     NC(=O)c1cccnc1   \n",
       "2        CHEMBL252556             COC1=C(OC)C(=O)C(CCCCCCCCCCO)=C(C)C1=O   \n",
       "3       CHEMBL3430999          O=C(c1cc2cc(Cl)ccc2[nH]1)N1CCCCC1c1cccnc1   \n",
       "4       CHEMBL3431191  CC(=O)Nc1ccc(-c2noc(CC3CCCN(Cc4cccc(F)c4C)C3)n...   \n",
       "5       CHEMBL3431127  COc1ccc(Oc2ccc(C(C)N(C)c3ncc4c(N)nc(N)nc4n3)cc...   \n",
       "6       CHEMBL4459211  CCC(c1ccc(Oc2ccc(OC)cc2)cc1)N(C)c1ncc2c(N)nc(N...   \n",
       "7       CHEMBL4571708  COc1ccc(Oc2ccc(C(C(C)C)N(C)c3ncc4c(N)nc(N)nc4n...   \n",
       "8       CHEMBL4442390  COc1ccc(Oc2ccc(C(c3ccccc3)N(C)c3ncc4c(N)nc(N)n...   \n",
       "9       CHEMBL4529336  COc1cccc(Oc2ccc(C(C)N(C)c3ncc4c(N)nc(N)nc4n3)c...   \n",
       "10      CHEMBL4579496  COc1ccc(Oc2ccc(C(C)N(C)c3ncc4c(N)nc(N)nc4n3)cc...   \n",
       "11      CHEMBL4577629  COc1cc(OC)cc(Oc2ccc(C(C)N(C)c3ncc4c(N)nc(N)nc4...   \n",
       "12      CHEMBL4567519  COc1cc(OC)cc(Oc2ccc(C(c3ccccc3)N(C)c3ncc4c(N)n...   \n",
       "13      CHEMBL4533566  COc1cc(Oc2ccc(C(C)N(C)c3ncc4c(N)nc(N)nc4n3)cc2...   \n",
       "14      CHEMBL4526249  COc1ccc(Sc2ccc(C(C)N(C)c3ncc4c(N)nc(N)nc4n3)cc...   \n",
       "15      CHEMBL4461910  COc1cc(OC)cc(Sc2ccc(C(C)N(C)c3ncc4c(N)nc(N)nc4...   \n",
       "16      CHEMBL4444104  COc1cc(OC)cc(Sc2ccc(C(c3ccccc3)N(C)c3ncc4c(N)n...   \n",
       "17      CHEMBL4562238  COc1ccc(Nc2ccc(C(C)N(C)c3ncc4c(N)nc(N)nc4n3)cc...   \n",
       "18      CHEMBL3431127  COc1ccc(Oc2ccc(C(C)N(C)c3ncc4c(N)nc(N)nc4n3)cc...   \n",
       "\n",
       "    standard_value  \n",
       "0          23100.0  \n",
       "1         420000.0  \n",
       "2           1900.0  \n",
       "3          18200.0  \n",
       "4          14000.0  \n",
       "5          23700.0  \n",
       "6          12800.0  \n",
       "7          27700.0  \n",
       "8           2340.0  \n",
       "9          23100.0  \n",
       "10         44700.0  \n",
       "11         12500.0  \n",
       "12          3300.0  \n",
       "13         30800.0  \n",
       "14         14900.0  \n",
       "15          4300.0  \n",
       "16          2000.0  \n",
       "17         65100.0  \n",
       "18         16800.0  "
      ]
     },
     "execution_count": 19,
     "metadata": {},
     "output_type": "execute_result"
    }
   ],
   "source": [
    "df"
   ]
  },
  {
   "cell_type": "code",
   "execution_count": null,
   "metadata": {},
   "outputs": [],
   "source": []
  }
 ],
 "metadata": {
  "colab": {
   "provenance": []
  },
  "kernelspec": {
   "display_name": "Python 3 (ipykernel)",
   "language": "python",
   "name": "python3"
  },
  "language_info": {
   "codemirror_mode": {
    "name": "ipython",
    "version": 3
   },
   "file_extension": ".py",
   "mimetype": "text/x-python",
   "name": "python",
   "nbconvert_exporter": "python",
   "pygments_lexer": "ipython3",
   "version": "3.9.7"
  }
 },
 "nbformat": 4,
 "nbformat_minor": 1
}
